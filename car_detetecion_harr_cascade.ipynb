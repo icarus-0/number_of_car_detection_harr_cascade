{
 "cells": [
  {
   "cell_type": "code",
   "execution_count": 2,
   "metadata": {},
   "outputs": [
    {
     "name": "stdout",
     "output_type": "stream",
     "text": [
      "4.1.0\n"
     ]
    }
   ],
   "source": [
    "\n",
    "import cv2\n",
    "print(cv2.__version__)\n",
    "\n",
    "cascade_src = 'D:\\\\datasets\\\\opencv-master\\\\data\\\\haarcascades\\\\cars.xml'\n",
    "#video_src = 'C:\\\\Users\\\\Naman\\\\Downloads\\\\Compressed\\\\vehicle_detection_haarcascades-master\\\\vehicle_detection_haarcascades-master\\\\dataset\\\\video1.avi'\n",
    "#video_src = \"D:\\\\datasets\\\\example1.mp4\"\n",
    "video_src = 'C:\\\\Users\\\\Naman\\\\Downloads\\\\Compressed\\\\vehicle_detection_haarcascades-master\\\\vehicle_detection_haarcascades-master\\\\dataset\\\\video2.avi'\n",
    "font = cv2.FONT_HERSHEY_SIMPLEX\n",
    "cap = cv2.VideoCapture(video_src)\n",
    "car_cascade = cv2.CascadeClassifier(cascade_src)\n",
    "total_cars = 0\n",
    "flag = 19\n",
    "while True:\n",
    "    flag += 1\n",
    "    ret, img = cap.read()\n",
    "    if (type(img) == type(None)):\n",
    "        break\n",
    "    \n",
    "    gray = cv2.cvtColor(img, cv2.COLOR_BGR2GRAY)\n",
    "    #img=cv2.resize(img,(400,400))\n",
    "    cars = car_cascade.detectMultiScale(gray, 1.1, 1)\n",
    "\n",
    "    for (x,y,w,h) in cars:\n",
    "        cv2.rectangle(img,(x,y),(x+w,y+h),(0,0,255),2)\n",
    "    \n",
    "    if flag%20 ==0:\n",
    "        total_cars += len(cars)\n",
    "    cv2.putText(img,str(total_cars),(0,50), font, 2, (0,0,255), 3, cv2.LINE_AA)\n",
    "    \n",
    "    cv2.imshow('video', img)\n",
    "    \n",
    "    if cv2.waitKey(33) == 27:\n",
    "        break\n",
    "\n",
    "cv2.destroyAllWindows()"
   ]
  },
  {
   "cell_type": "code",
   "execution_count": null,
   "metadata": {},
   "outputs": [],
   "source": []
  },
  {
   "cell_type": "code",
   "execution_count": null,
   "metadata": {},
   "outputs": [],
   "source": []
  }
 ],
 "metadata": {
  "kernelspec": {
   "display_name": "Python 3",
   "language": "python",
   "name": "python3"
  },
  "language_info": {
   "codemirror_mode": {
    "name": "ipython",
    "version": 3
   },
   "file_extension": ".py",
   "mimetype": "text/x-python",
   "name": "python",
   "nbconvert_exporter": "python",
   "pygments_lexer": "ipython3",
   "version": "3.7.3"
  }
 },
 "nbformat": 4,
 "nbformat_minor": 2
}
